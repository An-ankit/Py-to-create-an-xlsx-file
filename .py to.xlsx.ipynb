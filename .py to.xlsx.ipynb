{
 "cells": [
  {
   "cell_type": "markdown",
   "id": "f7496b61",
   "metadata": {},
   "source": [
    "#### Task 1: Python program to Create a excel file "
   ]
  },
  {
   "cell_type": "code",
   "execution_count": 1,
   "id": "c1436ea9",
   "metadata": {},
   "outputs": [],
   "source": [
    "import xlsxwriter as xw"
   ]
  },
  {
   "cell_type": "code",
   "execution_count": 2,
   "id": "1fe226a3",
   "metadata": {},
   "outputs": [],
   "source": [
    "wb= xw.Workbook('Hello_world.xlsx')"
   ]
  },
  {
   "cell_type": "code",
   "execution_count": 3,
   "id": "f5c78a84",
   "metadata": {},
   "outputs": [],
   "source": [
    "ws=wb.add_worksheet()"
   ]
  },
  {
   "cell_type": "code",
   "execution_count": 4,
   "id": "a40c0b86",
   "metadata": {},
   "outputs": [
    {
     "data": {
      "text/plain": [
       "0"
      ]
     },
     "execution_count": 4,
     "metadata": {},
     "output_type": "execute_result"
    }
   ],
   "source": [
    "ws.write('A1', 'Hello')\n",
    "ws.write('B1', 'World')\n",
    "ws.write('A2', 'I am')\n",
    "ws.write('B2','Ankit')\n",
    "ws.write('C2', 'enjoying')\n",
    "ws.write('D2', 'data science intern')\n",
    "ws .write('E2','at yoshops.com')"
   ]
  },
  {
   "cell_type": "code",
   "execution_count": null,
   "id": "64efee7d",
   "metadata": {},
   "outputs": [],
   "source": []
  },
  {
   "cell_type": "markdown",
   "id": "5a78592f",
   "metadata": {},
   "source": [
    "#### Task 2: Python program for Format data in excel sheet "
   ]
  },
  {
   "cell_type": "code",
   "execution_count": null,
   "id": "fa4cbf71",
   "metadata": {},
   "outputs": [],
   "source": []
  },
  {
   "cell_type": "code",
   "execution_count": 5,
   "id": "6267c74c",
   "metadata": {},
   "outputs": [],
   "source": [
    "tasks=(['Tasks','status'],['task 1','completed'],['task 2', 'completed'],['task 3', 'completed'],['task4', 'completed'],['task 5', 'completed'])"
   ]
  },
  {
   "cell_type": "code",
   "execution_count": 6,
   "id": "53697779",
   "metadata": {},
   "outputs": [],
   "source": [
    "row=4\n",
    "col=0"
   ]
  },
  {
   "cell_type": "code",
   "execution_count": 7,
   "id": "07280349",
   "metadata": {},
   "outputs": [],
   "source": [
    "for tasks,status in tasks:\n",
    "    ws.write(row, col, tasks)\n",
    "    ws.write(row, col+1, status)\n",
    "    row+=1"
   ]
  },
  {
   "cell_type": "code",
   "execution_count": 8,
   "id": "00f92c44",
   "metadata": {},
   "outputs": [],
   "source": [
    "wb.close()"
   ]
  },
  {
   "cell_type": "markdown",
   "id": "e771351d",
   "metadata": {},
   "source": [
    "#### Task 3: Python program for Import data from an excel file "
   ]
  },
  {
   "cell_type": "code",
   "execution_count": 9,
   "id": "495bda63",
   "metadata": {},
   "outputs": [],
   "source": [
    "import pandas as pd"
   ]
  },
  {
   "cell_type": "code",
   "execution_count": 10,
   "id": "e3eff526",
   "metadata": {},
   "outputs": [
    {
     "data": {
      "text/html": [
       "<div>\n",
       "<style scoped>\n",
       "    .dataframe tbody tr th:only-of-type {\n",
       "        vertical-align: middle;\n",
       "    }\n",
       "\n",
       "    .dataframe tbody tr th {\n",
       "        vertical-align: top;\n",
       "    }\n",
       "\n",
       "    .dataframe thead th {\n",
       "        text-align: right;\n",
       "    }\n",
       "</style>\n",
       "<table border=\"1\" class=\"dataframe\">\n",
       "  <thead>\n",
       "    <tr style=\"text-align: right;\">\n",
       "      <th></th>\n",
       "      <th>Hello</th>\n",
       "      <th>World</th>\n",
       "      <th>Unnamed: 2</th>\n",
       "      <th>Unnamed: 3</th>\n",
       "      <th>Unnamed: 4</th>\n",
       "    </tr>\n",
       "  </thead>\n",
       "  <tbody>\n",
       "    <tr>\n",
       "      <th>0</th>\n",
       "      <td>I am</td>\n",
       "      <td>Ankit</td>\n",
       "      <td>enjoying</td>\n",
       "      <td>data science intern</td>\n",
       "      <td>at yoshops.com</td>\n",
       "    </tr>\n",
       "    <tr>\n",
       "      <th>1</th>\n",
       "      <td>NaN</td>\n",
       "      <td>NaN</td>\n",
       "      <td>NaN</td>\n",
       "      <td>NaN</td>\n",
       "      <td>NaN</td>\n",
       "    </tr>\n",
       "    <tr>\n",
       "      <th>2</th>\n",
       "      <td>NaN</td>\n",
       "      <td>NaN</td>\n",
       "      <td>NaN</td>\n",
       "      <td>NaN</td>\n",
       "      <td>NaN</td>\n",
       "    </tr>\n",
       "    <tr>\n",
       "      <th>3</th>\n",
       "      <td>Tasks</td>\n",
       "      <td>status</td>\n",
       "      <td>NaN</td>\n",
       "      <td>NaN</td>\n",
       "      <td>NaN</td>\n",
       "    </tr>\n",
       "    <tr>\n",
       "      <th>4</th>\n",
       "      <td>task 1</td>\n",
       "      <td>completed</td>\n",
       "      <td>NaN</td>\n",
       "      <td>NaN</td>\n",
       "      <td>NaN</td>\n",
       "    </tr>\n",
       "    <tr>\n",
       "      <th>5</th>\n",
       "      <td>task 2</td>\n",
       "      <td>completed</td>\n",
       "      <td>NaN</td>\n",
       "      <td>NaN</td>\n",
       "      <td>NaN</td>\n",
       "    </tr>\n",
       "    <tr>\n",
       "      <th>6</th>\n",
       "      <td>task 3</td>\n",
       "      <td>completed</td>\n",
       "      <td>NaN</td>\n",
       "      <td>NaN</td>\n",
       "      <td>NaN</td>\n",
       "    </tr>\n",
       "    <tr>\n",
       "      <th>7</th>\n",
       "      <td>task4</td>\n",
       "      <td>completed</td>\n",
       "      <td>NaN</td>\n",
       "      <td>NaN</td>\n",
       "      <td>NaN</td>\n",
       "    </tr>\n",
       "    <tr>\n",
       "      <th>8</th>\n",
       "      <td>task 5</td>\n",
       "      <td>completed</td>\n",
       "      <td>NaN</td>\n",
       "      <td>NaN</td>\n",
       "      <td>NaN</td>\n",
       "    </tr>\n",
       "  </tbody>\n",
       "</table>\n",
       "</div>"
      ],
      "text/plain": [
       "    Hello      World Unnamed: 2           Unnamed: 3      Unnamed: 4\n",
       "0    I am      Ankit   enjoying  data science intern  at yoshops.com\n",
       "1     NaN        NaN        NaN                  NaN             NaN\n",
       "2     NaN        NaN        NaN                  NaN             NaN\n",
       "3   Tasks     status        NaN                  NaN             NaN\n",
       "4  task 1  completed        NaN                  NaN             NaN\n",
       "5  task 2  completed        NaN                  NaN             NaN\n",
       "6  task 3  completed        NaN                  NaN             NaN\n",
       "7   task4  completed        NaN                  NaN             NaN\n",
       "8  task 5  completed        NaN                  NaN             NaN"
      ]
     },
     "execution_count": 10,
     "metadata": {},
     "output_type": "execute_result"
    }
   ],
   "source": [
    "df=pd.read_excel('Hello_World.xlsx')\n",
    "df"
   ]
  },
  {
   "cell_type": "code",
   "execution_count": null,
   "id": "94103e97",
   "metadata": {},
   "outputs": [],
   "source": []
  }
 ],
 "metadata": {
  "kernelspec": {
   "display_name": "Python 3 (ipykernel)",
   "language": "python",
   "name": "python3"
  },
  "language_info": {
   "codemirror_mode": {
    "name": "ipython",
    "version": 3
   },
   "file_extension": ".py",
   "mimetype": "text/x-python",
   "name": "python",
   "nbconvert_exporter": "python",
   "pygments_lexer": "ipython3",
   "version": "3.9.7"
  }
 },
 "nbformat": 4,
 "nbformat_minor": 5
}
